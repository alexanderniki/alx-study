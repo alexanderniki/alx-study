{
 "cells": [
  {
   "cell_type": "markdown",
   "id": "e6b9c923",
   "metadata": {},
   "source": [
    "# Статистика"
   ]
  },
  {
   "cell_type": "markdown",
   "id": "7dcbe9e4",
   "metadata": {},
   "source": [
    "## Описательная статистика"
   ]
  },
  {
   "cell_type": "markdown",
   "id": "6eb63b67",
   "metadata": {},
   "source": [
    "Размах, среднее, мода, медиана"
   ]
  },
  {
   "cell_type": "code",
   "execution_count": null,
   "id": "b73953bb",
   "metadata": {},
   "outputs": [],
   "source": [
    "from typing import List\n",
    "from enum import Enum\n",
    "\n",
    "def amount(numbers: List[float]) -> int:\n",
    "    ''' Количество элементов '''\n",
    "    return len(numbers)\n",
    "\n",
    "def mean(numbers: List[float]) -> float:\n",
    "    ''' Среднее арифметическое '''\n",
    "    sum: float = 0\n",
    "    for i in numbers:\n",
    "        sum += i\n",
    "    return sum / len(numbers)\n",
    "\n",
    "def min_value(numbers: List[float]) -> float:\n",
    "    ''' Минимальное значение '''\n",
    "    return min(numbers)\n",
    "\n",
    "def max_value(numbers: List[float]) -> float:\n",
    "    ''' Максимальное значение '''\n",
    "    return max(numbers)"
   ]
  },
  {
   "cell_type": "markdown",
   "id": "9ca3ea91",
   "metadata": {},
   "source": [
    "Дисперсия и стандартное отклонение"
   ]
  },
  {
   "cell_type": "code",
   "execution_count": null,
   "id": "a9ba5eec",
   "metadata": {},
   "outputs": [],
   "source": [
    "def variance(numbers: List[float]) -> float:\n",
    "    ''' Дисперсия '''\n",
    "    return sum([(i-mean(numbers))**2 for i in numbers]) * 1/(len(numbers)-1)\n",
    "\n",
    "def std(numbers: List[float]) -> float:\n",
    "    \"\"\" Стандартное отклонение \"\"\"\n",
    "    return variance(numbers) ** 0.5"
   ]
  },
  {
   "cell_type": "code",
   "execution_count": null,
   "id": "f9556d33",
   "metadata": {},
   "outputs": [
    {
     "name": "stdout",
     "output_type": "stream",
     "text": [
      "Количество элементов: 20\n",
      "Среднее: 9.8\n",
      "Минимум: 1\n",
      "Максимум: 21\n",
      "Дисперсия: 34.16842105263158\n",
      "Стандартное отклонение: 5.845376040310117\n"
     ]
    }
   ],
   "source": [
    "# Пример\n",
    "\n",
    "dataset = [1, 5, 2, 7, 1, 9, 3, 8, 5, 9, 10, 11, 12, 13, 14, 15, 21, 17, 17, 16]\n",
    "print(\"Количество элементов:\", amount(dataset))\n",
    "print(\"Среднее:\", mean(dataset))\n",
    "print(\"Минимум:\", min_value(dataset))\n",
    "print(\"Максимум:\", max_value(dataset))\n",
    "print(\"Дисперсия:\", variance(dataset))\n",
    "print(\"Стандартное отклонение:\", std(dataset))"
   ]
  },
  {
   "cell_type": "markdown",
   "id": "86a7828f",
   "metadata": {},
   "source": [
    "## Z-значение и Z-преобразование"
   ]
  },
  {
   "cell_type": "code",
   "execution_count": null,
   "id": "098ef423",
   "metadata": {},
   "outputs": [],
   "source": [
    "def z_value(value: float, mean: float, std: float) -> float:\n",
    "    ''' Расчет z-значения '''\n",
    "    return (value - mean) / std\n",
    "\n",
    "def z_values(numbers: List[float]) -> List[float]:\n",
    "    ''' !TODO '''\n",
    "    z_values: List[float] = []\n",
    "\n",
    "    for item in numbers:\n",
    "        z_val = z_value(item)\n",
    "        z_values.append(z_val)\n",
    "\n",
    "    return z_values\n",
    "\n",
    "\n",
    "def se(std: float, elements_amount: int) -> float:\n",
    "    '''\n",
    "    Стандартная ошибка среднего\n",
    "\n",
    "    Args:\n",
    "        std (float): Выборочное стандартное отклонение\n",
    "        elements_amount (int): Количество элементов в выборке\n",
    "    \n",
    "    Returns:\n",
    "        (float): Значение стандартной ошибки среднего\n",
    "    '''\n",
    "    return std / elements_amount ** 0.5"
   ]
  },
  {
   "cell_type": "markdown",
   "id": "dbf10051",
   "metadata": {},
   "source": [
    "## Проверка гипотез"
   ]
  },
  {
   "cell_type": "markdown",
   "id": "cb59e260",
   "metadata": {},
   "source": [
    "### Доверительный интервал и p-уровень значимости\n",
    "\n",
    "**Доверительный интервал**. Мы не можем по выборке знать выбранную характеристику всей генеральной совокупности, но можем рассчитать такой интервал, в который с высокой вероятностью попадает интересующий нас параметр."
   ]
  },
  {
   "cell_type": "code",
   "execution_count": null,
   "id": "141d0393",
   "metadata": {},
   "outputs": [],
   "source": [
    "class ConfidenceLevel(Enum):\n",
    "    '''\n",
    "    Значения доверительных уровней\n",
    "    '''\n",
    "    \n",
    "    LVL_90 = 1.64  # Доверительный уровень 90% (1,64 стандартных ошибок)\n",
    "    LVL_95 = 1.96  # Доверительный уровень 95% (1,96 стандартных ошибок)\n",
    "    LVL_99 = 2.58  # Доверительный уровень 99% (2,58 стандартных ошибок)\n",
    "\n",
    "def confidence_interval(\n",
    "    mean: float,\n",
    "    se: float,\n",
    "    confidence_level: ConfidenceLevel\n",
    ") -> float:\n",
    "    '''\n",
    "    Доверительный интервал\n",
    "\n",
    "    Args:\n",
    "        mean (float): Выборочное среднее\n",
    "        se (float): Стандартная ошибка среднего\n",
    "        confidence_level (ConfidenceLevel): Доверительный уровень\n",
    "\n",
    "    Returns:\n",
    "        List[float]: Левая и правая границы доверительного интервала\n",
    "    '''\n",
    "    \n",
    "    ci_border_min: float = mean - se * confidence_level.value\n",
    "    ci_border_max: float = mean + se * confidence_level.value\n",
    "    return [ci_border_min, ci_border_max]\n",
    "\n"
   ]
  },
  {
   "cell_type": "markdown",
   "id": "f8a13c07",
   "metadata": {},
   "source": [
    "**p-уровень значимости.**\n",
    "\n",
    "Простыми словами: это вероятность того, что полученные нами в ходе эксперимента результаты - случайны.\n",
    "\n",
    "p > 0.05 -> недостаточно оснований, чтобы отклонить нулевую гипотезу\n",
    "\n",
    "p < 0.05 -> можно принимать альтернативную гипотезу"
   ]
  },
  {
   "cell_type": "markdown",
   "id": "970f191a",
   "metadata": {},
   "source": [
    "**Задача**\n",
    "\n",
    "_Есть лекарство, принимая которое, пациенты выздоравливают в среднем за 20 дней.\n",
    "Мы тестировали новое лекарство на выборке в 64 человека и заметили, что пациенты, принимая его, выздоравливают в среднем за 18.5 дней при стандартном отклонении равным 4._\n",
    "\n",
    "_Какой вывод можно сделать на основе этих данных? Достаточно ли оснований, чтобы принять гипотезу о том, что наше лекарство, действительно уменьшает период лечения?_"
   ]
  },
  {
   "cell_type": "code",
   "execution_count": null,
   "id": "40666ccd",
   "metadata": {},
   "outputs": [
    {
     "name": "stdout",
     "output_type": "stream",
     "text": [
      "Стандартная ошибка среднего: 0.5\n",
      "Результат z-преобразования: -3.0\n"
     ]
    }
   ],
   "source": [
    "'''\n",
    "H0: количество дней до выздоровления = 20 и не зависит от нового препарата\n",
    "H1: количество дней до выздоровления != 20 и новый препарат, действительно, повлиял\n",
    "'''\n",
    "\n",
    "mean_old: float = 20  # выборочное среднее до эксперимента (среднее ген. совокупности)\n",
    "\n",
    "n: int = 64  # количество экспериментов\n",
    "mean_new: float = 18.5  # выборочное среднее после проведения эксперимента\n",
    "sd: float = 4  # стандартное отклонение результатов в выборке\n",
    "\n",
    "\n",
    "'''\n",
    "Предположим, что H0 - верна. \n",
    "Тогда, согласно ЦПТ, выборочные средние будут распределены нормально вокруг среднего ГС.\n",
    "При этом, будет стандартная ошибка\n",
    "'''\n",
    "\n",
    "std_err = se(sd, n)\n",
    "print(\"Стандартная ошибка среднего:\", std_err)\n",
    "\n",
    "'''\n",
    "Определим, насколько далеко наше выборочное среднее отклонилось от предполагаемого\n",
    "среднего ГС в единицах стандартного отклонения\n",
    "Для этого, сделаем Z-преобразование\n",
    "'''\n",
    "\n",
    "z_val = z_value(mean_new, mean_old, std_err)\n",
    "print(\"Результат z-преобразования:\", z_val)\n",
    "\n",
    "\n",
    "'''\n",
    "Это значит, что если бы в ГС среднее значение на самом деле равнялось бы 20,\n",
    "то наше выборочное среднее отклонилось бы от среднего ГС на -3 стандартных отклонения\n",
    "в левую сторону.\n",
    "\n",
    "Дальше нужно рассчитать вероятность такого или еще более сильно выраженного отклонения\n",
    "от среднего значения.\n",
    "Расчет можно произвести по ссылке:  https://gallery.shinyapps.io/dist_calc/\n",
    "\n",
    "Эта вероятность p равляется примерно 0.003\n",
    "'''\n",
    "\n",
    "pass\n"
   ]
  },
  {
   "cell_type": "markdown",
   "id": "af360fcc",
   "metadata": {},
   "source": [
    "**Задача**\n",
    "\n",
    "_В среднем слушатели курса по введению в статистику набирают 115 баллов._\n",
    "\n",
    "_Однако, в 2015 году средний балл  случайно выбранных 144 участников составил 118 со стандартным отклонением равным 9._\n",
    "\n",
    "_Рассчитайте p уровень значимости для проверки нулевой гипотезы о том, что среднее значение баллов в 2015 году равняется 115._"
   ]
  },
  {
   "cell_type": "code",
   "execution_count": null,
   "id": "97566578",
   "metadata": {},
   "outputs": [
    {
     "name": "stdout",
     "output_type": "stream",
     "text": [
      "Стандартная ошибка среднего: 0.75\n",
      "Результат z-преобразования: 4.0\n"
     ]
    }
   ],
   "source": [
    "'''\n",
    "H0: количество баллов = 115 и не зависит от года\n",
    "H1: количество баллов != 115 и зависит от года\n",
    "'''\n",
    "\n",
    "mean_old: float = 115  # выборочное среднее до эксперимента (среднее ген. совокупности)\n",
    "\n",
    "n: int = 144  # количество экспериментов\n",
    "mean_new: float = 118  # выборочное среднее после проведения эксперимента\n",
    "sd: float = 9  # стандартное отклонение результатов в выборке\n",
    "\n",
    "# Расчитаем стандартную ошибку среднего\n",
    "std_err = se(sd, n)\n",
    "print(\"Стандартная ошибка среднего:\", std_err)\n",
    "\n",
    "# Сделаем z-преобразование\n",
    "z_val = z_value(mean_new, mean_old, std_err)\n",
    "print(\"Результат z-преобразования:\", z_val)\n",
    "\n",
    "'''\n",
    "Идем в калькулятор по ссылке: https://gallery.shinyapps.io/dist_calc/\n",
    "Расчитываем вероятность p = 6.33e-05\n",
    "'''\n",
    "\n",
    "pass\n"
   ]
  },
  {
   "cell_type": "markdown",
   "id": "3ef3fbd1",
   "metadata": {},
   "source": [
    "## T-распределение"
   ]
  },
  {
   "cell_type": "markdown",
   "id": "924a1fd9",
   "metadata": {},
   "source": [
    "Ситуация: у нас маленькое количество наблюдений (<30). В этом случае, ЦПТ не работает и выборочные средние не распределяются нормально.\n",
    "В этом случае используется распределение Стьюдента (t-распределение)\n",
    "\n",
    "### Сравнение средних и t-критерий\n",
    "\n",
    "Критерий, который позволяет сравнить между собой два выборочных средних."
   ]
  },
  {
   "cell_type": "code",
   "execution_count": null,
   "id": "c8b94245",
   "metadata": {},
   "outputs": [],
   "source": [
    "def sed(std_1: float, std_2: float, n_1: int, n_2: int) -> float:\n",
    "    '''\n",
    "    Стандартная ошибка разницы\n",
    "\n",
    "    Args:\n",
    "        std_1 (float): Стандартное отклонение первой выборки\n",
    "        std_2 (float): Стандартное отклонение второй выборки\n",
    "        n_1 (int): Количество элементов первой выборки\n",
    "        n_2 (int): Количество элементов второй выборки\n",
    "\n",
    "    Returns:\n",
    "        (float): Стандартная ошибка разницы\n",
    "    '''\n",
    "    return (std_1 ** 2 / n_1 + std_2 ** 2 / n_2) ** 0.5\n",
    "\n",
    "\n",
    "def t_criterion(mean_1: float, mean_2: float, sed:float) -> float:\n",
    "    '''\n",
    "    t-критерий (t-статистика)\n",
    "\n",
    "    Args:\n",
    "        mean_1 (float): Среднее первой выборки\n",
    "        mean_2 (float): Среднее второй выборки\n",
    "        sed (float): Стандартная ошибка разницы\n",
    "\n",
    "    Returns:\n",
    "        (float): t-критерий\n",
    "    '''\n",
    "\n",
    "    return (mean_1 - mean_2) / sed\n",
    "\n",
    "\n",
    "def t_confidence_interval(\n",
    "    mean: float,\n",
    "    se: float,\n",
    "    confidence_level: ConfidenceLevel\n",
    ") -> float:\n",
    "    '''\n",
    "    Доверительный интервал\n",
    "\n",
    "    Args:\n",
    "        mean (float): Выборочное среднее\n",
    "        se (float): Стандартная ошибка среднего\n",
    "        confidence_level (ConfidenceLevel): Доверительный уровень\n",
    "\n",
    "    Returns:\n",
    "        List[float]: Левая и правая границы доверительного интервала\n",
    "    '''\n",
    "    \n",
    "    ci_border_min: float = mean - se * confidence_level.value\n",
    "    ci_border_max: float = mean + se * confidence_level.value\n",
    "    return [ci_border_min, ci_border_max]\n",
    "\n"
   ]
  },
  {
   "cell_type": "markdown",
   "id": "41730475",
   "metadata": {},
   "source": [
    "**Задача**\n",
    "\n",
    "_Рассчитайте доверительный интервал основываясь на знании t - распределения для среднего значения температуры плавления ДНК у какого-то вида:_\n",
    "\n",
    "_x (среднее) = 89.9, sd = 11.3, n = 20_\n",
    "\n",
    "_Для этого определите, в каком диапазоне находится 95 % наблюдений у соответствующего t - распределения (df = n -1) и используйте это значение вместо коэффициента 1,96._"
   ]
  },
  {
   "cell_type": "code",
   "execution_count": null,
   "id": "379ff5fa",
   "metadata": {},
   "outputs": [
    {
     "name": "stdout",
     "output_type": "stream",
     "text": [
      "Доверительный интервал: [84.61149798709502, 95.18850201290499]\n"
     ]
    }
   ],
   "source": [
    "mean_val: float = 89.9  # Выборочное среднее\n",
    "sd: float = 11.3  # Стандартное отклонение\n",
    "n: int = 20  # Количество наблюдений\n",
    "\n",
    "# Определяем количество степеней свободы\n",
    "df: int = n - 1\n",
    "\n",
    "# Для этого значения степеней свободы \n",
    "# по специальной таблице определяем значение коэффициента, который будем\n",
    "# использовать для расчета доверительного интервала при t-распределении\n",
    "coeff: float = 2.093\n",
    "\n",
    "# Расчитаем стандартную ошибку среднего\n",
    "std_err = se(sd, n)\n",
    "\n",
    "# Расчитываем границы доверительного интервала\n",
    "ci_border_min: float = mean_val - std_err * coeff\n",
    "ci_border_max: float = mean_val + std_err * coeff\n",
    "\n",
    "print(\"Доверительный интервал:\", [ci_border_min, ci_border_max])\n"
   ]
  },
  {
   "cell_type": "markdown",
   "id": "0216a1bf",
   "metadata": {},
   "source": [
    "**Задача**\n",
    "\n",
    "_Первые премии Оскар за лучшую мужскую и женскую роль были вручены в 1929. Данные гистограммы демонстрируют распределение возраста победителей с 1929 по 2014 год (100 мужчин, 100 женщин). Используя t - критерий проверьте, можно ли считать наблюдаемые различия в возрасте между лучшими актрисами и актерами  статистически достоверными._\n",
    "\n",
    "- _Средний возраст мужчин равен 45, sd = 9_\n",
    "- _Средний возраст женщин равен 34, sd = 10._"
   ]
  },
  {
   "cell_type": "code",
   "execution_count": null,
   "id": "2227fb45",
   "metadata": {},
   "outputs": [
    {
     "name": "stdout",
     "output_type": "stream",
     "text": [
      "Стандартная ошибка разницы: 1.3453624047073711\n",
      "t-критерий: 8.176235608718828\n"
     ]
    }
   ],
   "source": [
    "mean_m: float = 45  # Средний возраст мужчин\n",
    "sd_m: float = 9  # Стандартное отклонение по выборке из мужчин\n",
    "n_m: int = 100  # Количество наблюдений\n",
    "\n",
    "mean_f: float = 34  # Средний возраст женщин\n",
    "sd_f: float = 10  # Стандартное отклонение по выбооке из женщин\n",
    "n_f: int = 100  # Количество наблюдений\n",
    "\n",
    "# Расчитаем стандатную ошибку разницы\n",
    "std_err_diff = sed(sd_m, sd_f, n_m, n_f)\n",
    "print(\"Стандартная ошибка разницы:\", std_err_diff)\n",
    "\n",
    "# Расчитаем t-критерий\n",
    "t_crt = t_criterion(mean_m, mean_f, std_err_diff)\n",
    "print(\"t-критерий:\", t_crt)\n",
    "\n",
    "# Расчитаем число степеней свободы\n",
    "df: int = n_m + n_f - 2\n",
    "\n",
    "# Для этого количества степеней свободы найдет табличное значение коэффициента\n",
    "t_coeff = 1.972\n",
    "\n",
    "# Специальным калькулятором считаем вероятность выхода за пределы интервала\n",
    "p: float = 3.48e-14\n",
    "\n",
    "# Либо же, можем решить задачу по следующей логике:\n",
    "# t наше = 8,2 (11/корень(181/100))\n",
    "# t табл. = 1,972 (при p = 0,05 и df = 200, так как 198 в таблице нет, различие будет невелико)\n",
    "# t наше > t табл. -> нулевую гипотезу отклоняем\n"
   ]
  },
  {
   "cell_type": "markdown",
   "id": "52dd0512",
   "metadata": {},
   "source": [
    "## Однофакторный дисперсионный анализ"
   ]
  },
  {
   "cell_type": "code",
   "execution_count": null,
   "id": "71b779c9",
   "metadata": {},
   "outputs": [],
   "source": [
    "def sum_sqrs(numbers: List[float]) -> float:\n",
    "    '''\n",
    "    Сумма квадратов выборки\n",
    "\n",
    "    Args:\n",
    "        numbers (List[float]): Данные\n",
    "    \n",
    "    Returns:\n",
    "        (float): Общая сумма квадратов\n",
    "    '''\n",
    "    sum_sq: float = 0.0\n",
    "\n",
    "    for i in numbers:\n",
    "        sum_sq += (i - mean(numbers)) ** 2\n",
    "\n",
    "    return sum_sq\n",
    "\n",
    "\n",
    "def sst(*numbers: List[float]) -> float:\n",
    "    '''\n",
    "    Обшая сумма квадратов\n",
    "\n",
    "    Args:\n",
    "        *numbers (List[float]): один или несколько массивов\n",
    "\n",
    "    Returns:\n",
    "        sst (float): Общая сумма квадратов\n",
    "    '''\n",
    "\n",
    "    sst: float = 0\n",
    "\n",
    "    # Сформируем из групп один список\n",
    "    data_all: List[float] = []\n",
    "    for group in numbers:\n",
    "        for item in group:\n",
    "            data_all.append(item)\n",
    "\n",
    "    # Находим SST\n",
    "    sst = sum_sqrs(data_all)\n",
    "\n",
    "    return sst\n",
    "\n",
    "\n",
    "def ssw(*numbers: List[float]) -> float:\n",
    "    '''\n",
    "    Внутригрупповая сумма квадратов (Square Sum Within)\n",
    "    Берем несколько массивов с числами, для каждого массива вычисляем\n",
    "    общую сумму квадратов его элементов и складываем эти суммы.\n",
    "\n",
    "    Args:\n",
    "        *numbers (List[float]): один или несколько массивов\n",
    "\n",
    "    Returns:\n",
    "        ssw (float): Внутригрупповая сумма квадратов\n",
    "    '''\n",
    "    \n",
    "    ssw: float = 0\n",
    "\n",
    "    for data_group in numbers:\n",
    "        ssw += sum_sqrs(data_group)\n",
    "    \n",
    "    return ssw\n",
    "\n",
    "\n",
    "def ssb(*numbers: List[float]) -> float:\n",
    "    '''\n",
    "    Межгрупповая сумма квадратов (Square Sum Between)\n",
    "    '''\n",
    "\n",
    "    ssb: float = 0\n",
    "    \n",
    "    groups_amount: int = len(numbers)\n",
    "    group_elements_amount: int = 0\n",
    "    group_elements_sum: float = 0\n",
    "    all_mean: float = 0\n",
    "    for data_group in numbers:\n",
    "        group_elements_amount += len(data_group)\n",
    "        for item in data_group:\n",
    "            group_elements_sum += item\n",
    "        all_mean = group_elements_sum / group_elements_amount\n",
    "        \n",
    "\n",
    "    for data_group in numbers:\n",
    "        data_group_mean = mean(data_group)\n",
    "        ssb += groups_amount * ((data_group_mean - all_mean) ** 2)\n",
    "    \n",
    "    return ssb\n"
   ]
  },
  {
   "cell_type": "code",
   "execution_count": null,
   "id": "5bdf9f3c",
   "metadata": {},
   "outputs": [
    {
     "name": "stdout",
     "output_type": "stream",
     "text": [
      "Общая сумма квадратов: 30.0\n",
      "Внутригрупповая сумма квадратов: 6.0\n",
      "Межгрупповая сумма квадратов: 24.0\n",
      "F-значение: 12.0\n"
     ]
    }
   ],
   "source": [
    "'''\n",
    "Пример\n",
    "\n",
    "Есть три выборки\n",
    "Нулевая гипотеза: Средние всех трех выборок равны\n",
    "Альтернативная гипотеза: Средние всех трех выборок не равны\n",
    "'''\n",
    "\n",
    "sel1 = [3,1,2]\n",
    "sel2 = [5,3,4]\n",
    "sel3 = [7,6,5]\n",
    "print(\"Общая сумма квадратов:\", sst(sel1, sel2, sel3))\n",
    "print(\"Внутригрупповая сумма квадратов:\", ssw(sel1, sel2, sel3))\n",
    "print(\"Межгрупповая сумма квадратов:\", ssb(sel1, sel2, sel3))\n",
    "\n",
    "'''\n",
    "Число степеней свободы для SSB = число групп - 1\n",
    "Число степеней свободы для SSW = общее количество элементов - количество групп\n",
    "'''\n",
    "\n",
    "# Расчитываем F-значение\n",
    "f_value = (ssb(sel1, sel2, sel3) / 2) / (ssw(sel1, sel2, sel3) / 6)\n",
    "print(\"F-значение:\", f_value)\n",
    "\n",
    "# Далее, расчитываем в специальном калькуляторе p-уровень значимости при помощи F-критерия"
   ]
  },
  {
   "cell_type": "markdown",
   "id": "383362e5",
   "metadata": {},
   "source": [
    "### Множественные сравнения в дисперсном анализе"
   ]
  },
  {
   "cell_type": "code",
   "execution_count": null,
   "id": "0944f5b0",
   "metadata": {},
   "outputs": [],
   "source": [
    "def mse(*numbers: List[float]) -> float:\n",
    "    '''\n",
    "    Средний квадрат отклонений (Mean Square Error)\n",
    "\n",
    "    Args:\n",
    "        *numbers (List[float]): Один или нескалько массивов\n",
    "\n",
    "    Returns:\n",
    "        mse (float): Средний квадрат отклонений для всех групп\n",
    "    '''\n",
    "\n",
    "    groups_amount: int = len(numbers)\n",
    "    items_amount = sum(len(group) for group in numbers)\n",
    "\n",
    "    mse = ssw(*numbers) / (items_amount - groups_amount)\n",
    "\n",
    "    return mse\n",
    "\n",
    "\n",
    "def bonferroni(p_level: float, comparisons: int) -> float:\n",
    "    '''\n",
    "    Поправка Бонферрони\n",
    "\n",
    "    Args:\n",
    "        p_level (float): p-уровень значимости, с которым мы работаем\n",
    "        comparisons (int): Количество сравнений\n",
    "\n",
    "    Returns:\n",
    "        (float): Скорректированный показатель\n",
    "    '''\n",
    "\n",
    "    return p_level / comparisons\n",
    "\n",
    "\n",
    "def q_criterion(numbers_1: List[float], numbers_2: List[float]) -> float:\n",
    "    '''\n",
    "    Критерий Тьюки (q-критерий) для пары выборок\n",
    "\n",
    "    Args:\n",
    "        numbers_1 (List[float]): Первая выборка\n",
    "        numbers_2 (List[float]): Вторая выборка\n",
    "\n",
    "    Returns:\n",
    "        q_criterion (float): q-критерий для пары выборок\n",
    "    '''\n",
    "\n",
    "    q_criterion: float = (mean(numbers_1) - mean(numbers_2)) / mse(numbers_1, numbers_2)\n",
    "\n",
    "    return q_criterion\n",
    "\n"
   ]
  },
  {
   "cell_type": "code",
   "execution_count": null,
   "id": "8c602d57",
   "metadata": {},
   "outputs": [
    {
     "name": "stdout",
     "output_type": "stream",
     "text": [
      "Средний квадрат отклонений: 8.336363636363636\n",
      "q-критерий: -1.014176663031625\n"
     ]
    }
   ],
   "source": [
    "# Пример\n",
    "sel1 = [3, 1, 2, 2, 5, 3, 11, 4, 7, 8, 9]\n",
    "sel2 = [11, 11, 12, 12, 15, 13, 11, 14, 17, 18, 14]\n",
    "#sel2 = [5, 3, 4, 4, 6, 7, 8, 8, 8, 12, 1, 1]\n",
    "\n",
    "print(\"Средний квадрат отклонений:\", mse(sel1, sel2))\n",
    "print(\"q-критерий:\", q_criterion(sel1, sel2))\n"
   ]
  },
  {
   "cell_type": "markdown",
   "id": "868f0dda",
   "metadata": {},
   "source": [
    "## Корреляция"
   ]
  },
  {
   "cell_type": "code",
   "execution_count": null,
   "id": "f7c5307a",
   "metadata": {},
   "outputs": [],
   "source": [
    "def covariation(n1: List[float], n2: List[float]) -> float:\n",
    "    ''' \n",
    "    Ковариация \n",
    "    \n",
    "    Args:\n",
    "        n1 (List[float]): Первая последовательность\n",
    "        n2 (List[float]): Вторая последовательность\n",
    "\n",
    "    Returns:\n",
    "        covariation (float): Значение ковариации\n",
    "    '''\n",
    "    \n",
    "    n1_mean: float = mean(n1)  # Среднее в первой последовательности\n",
    "    n2_mean: float = mean(n2)  # Среднее во второй последовательности\n",
    "\n",
    "    summ_n: float = 0  # Сумма произведений отклонений от средних значений\n",
    "\n",
    "    for i in range(0, len(n1)):\n",
    "        summ_n += (n1[i] - n1_mean) * (n2[i] - n2_mean)\n",
    "\n",
    "    covariation: float = summ_n / (len(n1) - 1)  # Среднее значение произведения отклонений от средних значений\n",
    "\n",
    "    return covariation\n",
    "\n",
    "\n",
    "def correlation_pearson(n1: List[float], n2: List[float]) -> float:\n",
    "    '''\n",
    "    Коэффициент корреляции Пирсона\n",
    "\n",
    "    Args:\n",
    "        n1 (List[float]): Первая последовательность\n",
    "        n2 (List[float]): Вторая последовательность\n",
    "\n",
    "    Returns:\n",
    "        correlation (float): Коэффициент корреляции\n",
    "    '''\n",
    "\n",
    "    correlation: float = covariation(n1, n2) / (std(n1) * std(n2))\n",
    "\n",
    "    return correlation"
   ]
  },
  {
   "cell_type": "code",
   "execution_count": null,
   "id": "cf0b0f77",
   "metadata": {},
   "outputs": [
    {
     "name": "stdout",
     "output_type": "stream",
     "text": [
      "Ковариация: -2.5\n",
      "Корреляция: -0.9999999999999998\n"
     ]
    }
   ],
   "source": [
    "# Пример\n",
    "x = [4, 5, 2, 3, 1]\n",
    "y = [2, 1, 4, 3, 5]\n",
    "\n",
    "cov = covariation(x, y)\n",
    "print(\"Ковариация:\", cov)\n",
    "corr = correlation_pearson(x, y)\n",
    "print(\"Корреляция:\", corr)\n"
   ]
  },
  {
   "cell_type": "markdown",
   "id": "e45161e1",
   "metadata": {},
   "source": [
    "## Регрессия\n",
    "\n",
    "Метод наименьших квадратов"
   ]
  },
  {
   "cell_type": "code",
   "execution_count": null,
   "id": "0602d799",
   "metadata": {},
   "outputs": [],
   "source": [
    "def regression_slope(n1: List[float], n2: List[float]) -> float:\n",
    "    '''\n",
    "    Коэффициент slope линейной регрессии\n",
    "\n",
    "    Коэффициент корреляции по-сути определяет направление линии\n",
    "\n",
    "    Args:\n",
    "        n1 (List[float]): Первая последовательность\n",
    "        n2 (List[float]): Вторая последовательность\n",
    "\n",
    "    Returns:\n",
    "        slope (float): Значение коэффициента\n",
    "    '''\n",
    "\n",
    "    slope = std(n2) / std(n1) * correlation_pearson(n1, n2)\n",
    "\n",
    "    return slope\n",
    "\n",
    "\n",
    "def regression_intercept(n1: List[float], n2: List[float]) -> float:\n",
    "    '''\n",
    "    Коэффициент intercept линейной регрессии\n",
    "\n",
    "    Args:\n",
    "        n1 (List[float]): Первая последовательность\n",
    "        n2 (List[float]): Вторая последовательность\n",
    "\n",
    "    Returns:\n",
    "        intercept (float): Значение коэффициента\n",
    "    '''\n",
    "\n",
    "    intercept = mean(n2) - regression_slope * mean(n1)\n",
    "\n",
    "    return intercept\n",
    "\n",
    "\n",
    "def regression_linear(n1: List[float], n2: List[float], predictor: float) -> float:\n",
    "    '''\n",
    "    Предсказываемое значение линейной регрессии\n",
    "    Уравнение линейной регрессии (x - предиктор, y - зависимая переменная):\n",
    "    y = b0 + b1 * x\n",
    "\n",
    "    Args:\n",
    "        n1 (List[float]): Первая последовательность\n",
    "        n2 (List[float]): Вторая последовательность\n",
    "        predictor (float): Значение предиктора\n",
    "\n",
    "    Returns:\n",
    "        predicted_value (float): Предсказанное значение зависимой переменной\n",
    "\n",
    "    '''\n",
    "    \n",
    "    predicted_value = regression_intercept(n1, n2) + regression_slope(n1, n2) * predictor\n",
    "\n",
    "    return predicted_value"
   ]
  },
  {
   "cell_type": "markdown",
   "id": "4a8b6095",
   "metadata": {},
   "source": [
    "**Задача**\n",
    "\n",
    "Есть зависимость двух количественных переменных X и Y. Рассчитайте коэффициент b1 для регрессионной прямой, если коэффициент детерминации равен 0,25:\n",
    "\n",
    "MX = 15 (выборочное среднее), DX = 25\n",
    "\n",
    "MY = 10, DY = 36"
   ]
  },
  {
   "cell_type": "code",
   "execution_count": null,
   "id": "f9988fe9",
   "metadata": {},
   "outputs": [
    {
     "name": "stdout",
     "output_type": "stream",
     "text": [
      "Correlation: 0.5\n",
      "Slope: 0.6\n",
      "Intercept: 1.0\n"
     ]
    }
   ],
   "source": [
    "mean_x = 15\n",
    "mean_y = 10\n",
    "dx = 25\n",
    "dy = 36\n",
    "determination_coeff = 0.25\n",
    "\n",
    "cr_pearson_coeff = determination_coeff ** 0.5\n",
    "print(\"Correlation:\", cr_pearson_coeff)\n",
    "\n",
    "stdx = dx ** 0.5\n",
    "stdy = dy ** 0.5\n",
    "\n",
    "slope = (stdy / stdx) * cr_pearson_coeff\n",
    "print(\"Slope:\", slope)\n",
    "\n",
    "intercept = mean_y - slope * mean_x\n",
    "print(\"Intercept:\", intercept)"
   ]
  }
 ],
 "metadata": {
  "kernelspec": {
   "display_name": "stepik-statistics",
   "language": "python",
   "name": "python3"
  },
  "language_info": {
   "codemirror_mode": {
    "name": "ipython",
    "version": 3
   },
   "file_extension": ".py",
   "mimetype": "text/x-python",
   "name": "python",
   "nbconvert_exporter": "python",
   "pygments_lexer": "ipython3",
   "version": "3.13.8"
  }
 },
 "nbformat": 4,
 "nbformat_minor": 5
}
